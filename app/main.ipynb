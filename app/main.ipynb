{
 "cells": [
  {
   "cell_type": "code",
   "metadata": {
    "collapsed": true,
    "pycharm": {
     "name": "#%%\n"
    }
   },
   "source": [
    "import pandas as pd\n",
    "import numpy as np\n",
    "import matplotlib.pyplot as plt\n",
    "import sqlite3"
   ],
   "outputs": [],
   "execution_count": null
  },
  {
   "cell_type": "markdown",
   "source": [
    "# Task 0\n",
    "Data extraction: get the data from 3 tables & combine it into single `.csv` file.\n",
    "After that read this file using pandas to create Dataframe.\n",
    "So it will be all joined data in 1 dataframe. Quick check - should be 74818 rows in it."
   ],
   "metadata": {
    "collapsed": false,
    "pycharm": {
     "name": "#%% md\n"
    }
   }
  },
  {
   "cell_type": "code",
   "source": [
    "db_con = sqlite3.connect(\"../db.sqlite3\")\n",
    "query = \"\"\"\n",
    "SELECT datetime, quantity, price, name\n",
    "FROM restaurant_order\n",
    "JOIN restaurant_orderitem ON restaurant_order.id = restaurant_orderitem.order_id\n",
    "JOIN restaurant_product ON restaurant_orderitem.product_id = restaurant_product.id;\n",
    "\"\"\"\n",
    "\n",
    "data = pd.read_sql(query, db_con)\n",
    "data.to_csv(\"../data.csv\", index=False)\n",
    "db_con.close()"
   ],
   "metadata": {
    "collapsed": false,
    "pycharm": {
     "name": "#%%\n"
    }
   },
   "outputs": [],
   "execution_count": null
  },
  {
   "cell_type": "markdown",
   "source": [
    "# Task 1\n",
    "Get Top 10 most popular products in restaurant sold by Quantity.\n",
    "Count how many times each product was sold and create a pie chart with percentage of popularity (by quantity) for top 10 of them.\n",
    "\n",
    "Example:\n",
    "\n",
    "![pie chart](../demo/pie.png)"
   ],
   "metadata": {
    "collapsed": false,
    "pycharm": {
     "name": "#%% md\n"
    }
   }
  },
  {
   "cell_type": "code",
   "source": [
    "df = pd.read_csv(\"../data.csv\")\n",
    "sales = df.groupby(\"name\")[\"quantity\"].sum()\n",
    "top_10 = sales.sort_values(ascending=False).head(10)\n",
    "top_10_pers = top_10 / top_10.sum() * 100\n",
    "\n",
    "plt.figure(figsize = (5, 5))\n",
    "plt.pie(top_10_pers, labels = top_10_pers.index, autopct='%1.1f%%')\n",
    "plt.title(\"Top 10 positions in menu by title\")\n",
    "plt.show()"
   ],
   "metadata": {
    "collapsed": false,
    "pycharm": {
     "name": "#%%\n"
    }
   },
   "outputs": [],
   "execution_count": null
  },
  {
   "cell_type": "markdown",
   "source": [
    "# Task 2\n",
    "Calculate `Item Price` (Product Price * Quantity) for each Order Item in dataframe.\n",
    "And Make the same Top 10 pie chart, but this time by `Item Price`. So this chart should describe not the most popular products by quantity, but which products (top 10) make the most money for restaurant. It should be also with percentage."
   ],
   "metadata": {
    "collapsed": false,
    "pycharm": {
     "name": "#%% md\n"
    }
   }
  },
  {
   "cell_type": "code",
   "source": [
    "df[\"item_price\"] = df[\"price\"] * df[\"quantity\"]\n",
    "sale_sum = df.groupby(\"name\")[\"item_price\"].sum()\n",
    "top_10_sum = sale_sum.sort_values(ascending=False).head(10)\n",
    "top_10_sum_pers = top_10_sum / top_10_sum.sum() * 100\n",
    "\n",
    "plt.figure(figsize = (5, 5))\n",
    "plt.pie(top_10_sum_pers, labels=top_10_sum_pers.index, autopct='%1.1f%%')\n",
    "plt.title(\"Top 10 positions in menu by price\")\n",
    "plt.show()"
   ],
   "metadata": {
    "collapsed": false,
    "pycharm": {
     "name": "#%%\n",
     "is_executing": true
    }
   },
   "outputs": [],
   "execution_count": null
  },
  {
   "cell_type": "markdown",
   "source": [
    "# Task 3\n",
    "Calculate `Order Hour` based on `Order Datetime`, which will tell about the specific our the order was created (from 0 to 23). Using `Order Hour` create a bar chart, which will tell the total restaurant income based on the hour order was created. So on x-axis - it will be values from 0 to 23 (hours), on y-axis - it will be the total sum of order prices, which were sold on that hour.\n",
    "\n",
    "Example:\n",
    "\n",
    "![bar chart](../demo/bar.png)"
   ],
   "metadata": {
    "collapsed": false,
    "pycharm": {
     "name": "#%% md\n"
    }
   }
  },
  {
   "cell_type": "code",
   "source": [
    "df[\"datetime\"] = pd.to_datetime(df[\"datetime\"])\n",
    "df[\"order_hour\"] = df[\"datetime\"].dt.hour\n",
    "sales_hour = df.groupby(\"order_hour\")[\"item_price\"].sum()\n",
    "\n",
    "plt.figure(figsize = (8, 5))\n",
    "plt.bar(sales_hour.index, sales_hour.values)\n",
    "plt.title(\"Sales by hour\")\n",
    "plt.xlabel(\"Hour\")\n",
    "plt.ylabel(\"Summ\")\n",
    "plt.show()"
   ],
   "metadata": {
    "collapsed": false,
    "pycharm": {
     "name": "#%%\n"
    }
   },
   "outputs": [],
   "execution_count": null
  },
  {
   "cell_type": "markdown",
   "source": [
    "# Task 4\n",
    "Make similar bar chart, but right now with `Order Day Of The Week` (from Monday to Sunday), and also analyze total restaurant income by each day of the week."
   ],
   "metadata": {
    "collapsed": false,
    "pycharm": {
     "name": "#%% md\n"
    }
   }
  },
  {
   "cell_type": "code",
   "source": [
    "df[\"week_day\"] = df[\"datetime\"].dt.dayofweek\n",
    "day_sales = df.groupby(\"week_day\")[\"item_price\"].sum()\n",
    "day_names = [\"Monday\", \"Tuesday\", \"Wednesday\", \"Thursday\", \"Friday\", \"Saturday\", \"Sunday\"]\n",
    "day_sales.index = day_names\n",
    "\n",
    "plt.figure(figsize = (8, 5))\n",
    "plt.bar(day_sales.index, day_sales.values)\n",
    "plt.title(\"Sales by day\")\n",
    "plt.xlabel(\"Day\")\n",
    "plt.ylabel(\"Summ\")\n",
    "plt.show()"
   ],
   "metadata": {
    "collapsed": false,
    "pycharm": {
     "name": "#%%\n"
    }
   },
   "outputs": [],
   "execution_count": null
  },
  {
   "metadata": {},
   "cell_type": "code",
   "source": "",
   "outputs": [],
   "execution_count": null
  }
 ],
 "metadata": {
  "kernelspec": {
   "display_name": "Python 3",
   "language": "python",
   "name": "python3"
  },
  "language_info": {
   "codemirror_mode": {
    "name": "ipython",
    "version": 2
   },
   "file_extension": ".py",
   "mimetype": "text/x-python",
   "name": "python",
   "nbconvert_exporter": "python",
   "pygments_lexer": "ipython2",
   "version": "2.7.6"
  }
 },
 "nbformat": 4,
 "nbformat_minor": 0
}
